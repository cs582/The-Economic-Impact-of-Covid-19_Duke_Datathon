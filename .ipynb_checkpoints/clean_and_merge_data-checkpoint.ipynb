{
 "cells": [
  {
   "cell_type": "code",
   "execution_count": 1,
   "metadata": {},
   "outputs": [
    {
     "name": "stdout",
     "output_type": "stream",
     "text": [
      "        rfgrp  prednum  prednum_moe  predrt  predrt_moe   stname STABREV  \\\n",
      "0         0.0    17545       4022.9   31.66        7.26  Alabama      AL   \n",
      "1         1.5    24796       4320.5   44.74        7.80  Alabama      AL   \n",
      "2         3.1    13079       3606.6   23.60        6.51  Alabama      AL   \n",
      "3         0.0      495        170.7   25.77        8.89  Alabama      AL   \n",
      "4         1.5      902        188.6   46.95        9.82  Alabama      AL   \n",
      "...       ...      ...          ...     ...         ...      ...     ...   \n",
      "228589    1.5     1492        305.6   50.66       10.38  Wyoming      WY   \n",
      "228590    3.1      779        250.9   26.45        8.52  Wyoming      WY   \n",
      "228591    0.0     1326        336.1   35.45        8.99  Wyoming      WY   \n",
      "228592    1.5     1737        365.6   46.44        9.78  Wyoming      WY   \n",
      "228593    3.1      677        303.4   18.10        8.11  Wyoming      WY   \n",
      "\n",
      "                    ctname  popuni  \n",
      "0       Autauga County, AL   55420  \n",
      "1       Autauga County, AL   55420  \n",
      "2       Autauga County, AL   55420  \n",
      "3       Autauga County, AL    1921  \n",
      "4       Autauga County, AL    1921  \n",
      "...                    ...     ...  \n",
      "228589   Weston County, WY    2945  \n",
      "228590   Weston County, WY    2945  \n",
      "228591   Weston County, WY    3740  \n",
      "228592   Weston County, WY    3740  \n",
      "228593   Weston County, WY    3740  \n",
      "\n",
      "[228594 rows x 9 columns]\n"
     ]
    }
   ],
   "source": [
    "import numpy as np\n",
    "import pandas as pd\n",
    "\n",
    "#sub region 1 is state, sub region 2 is county\n",
    "#mobility = pd.read_csv('datasets/Global_Mobility_Report.csv')\n",
    "\n",
    "resilience = pd.read_csv('datasets/community resilience.csv')\n",
    "covid = pd.read_csv('datasets/covid death counts.csv')\n",
    "covid_cases = pd.read_csv('datasets/WHO Covid Data.csv')\n",
    "cases = pd.read_csv('datasets/county cases.csv')\n",
    "\n",
    "covid = covid.rename(columns={\"Data as of\": \"Deaths Data as of\", \"Start week\": \"Deaths Start week\", \"End Week\" : \"Deaths End Week\"})\n",
    "\n",
    "resilience = resilience.drop(['state', 'county', 'tract'], axis=1)\n",
    "covid_cases = covid_cases.loc[covid_cases['location'] == 'United States']\n",
    "\n",
    "#mobility = mobility.loc[mobility['country_region'] == 'United States']\n",
    "#mobility = mobility.dropna(subset=['retail_and_recreation_percent_change_from_baseline', 'grocery_and_pharmacy_percent_change_from_baseline',\n",
    "#                                  'parks_percent_change_from_baseline', 'transit_stations_percent_change_from_baseline', 'workplaces_percent_change_from_baseline',\n",
    "#                                 'residential_percent_change_from_baseline'])\n",
    "\n",
    "resilience = resilience.dropna(subset=['rfgrp'])\n",
    "resilience.loc[(resilience.rfgrp == '0RF'),'rfgrp'] = 0\n",
    "resilience.loc[(resilience.rfgrp == '1-2RF'),'rfgrp'] = 1.5\n",
    "resilience.loc[(resilience.rfgrp == '3PLRF'),'rfgrp'] = 3.1\n",
    "resilience['rfgrp'] = pd.to_numeric(resilience['rfgrp'])\n",
    "\n",
    "\n",
    "#final_df = pd.merge(covid, resilience, left_on = 'State', right_on = 'stname')\n",
    "#second_final_df = pd.merge(final_df, covid_cases, left_on = 'State', right_on = 'location')\n",
    "\n",
    "#print(final_df)\n",
    "\n",
    "print(resilience)\n"
   ]
  },
  {
   "cell_type": "code",
   "execution_count": 12,
   "metadata": {
    "scrolled": false
   },
   "outputs": [
    {
     "name": "stdout",
     "output_type": "stream",
     "text": [
      "       rfgrp  popuni          stname STABREV  state_deaths       county_name  \\\n",
      "0       32.2   23925  South Carolina      SC        3620.0  Abbeville County   \n",
      "1       59.8   61894       Louisiana      LA        5194.0     Acadia Parish   \n",
      "2       59.8   32318        Virginia      VA        3466.0   Accomack County   \n",
      "3      276.0  461076           Idaho      ID         571.0        Ada County   \n",
      "4       18.4    7062            Iowa      IA        1638.0      Adair County   \n",
      "...      ...     ...             ...     ...           ...               ...   \n",
      "14471   13.8    9929        Colorado      CO        2094.0       Yuma County   \n",
      "14472   13.8    9929        Colorado      CO        2094.0       Yuma County   \n",
      "14473   18.4   14190           Texas      TX       17706.0     Zapata County   \n",
      "14474   23.0   11570           Texas      TX       17706.0     Zavala County   \n",
      "14475    9.2    2742    South Dakota      SD         376.0    Ziebach County   \n",
      "\n",
      "       countyFIPS       County Name State  stateFIPS  ...  10/21/20  10/22/20  \\\n",
      "0           45001  Abbeville County    SC         45  ...       718       723   \n",
      "1           22001     Acadia Parish    LA         22  ...      3091      3108   \n",
      "2           51001   Accomack County    VA         51  ...      1202      1204   \n",
      "3           16001        Ada County    ID         16  ...     15496     15746   \n",
      "4           19001      Adair County    IA         19  ...       144       149   \n",
      "...           ...               ...   ...        ...  ...       ...       ...   \n",
      "14471        4027       Yuma County    AZ          4  ...     13297     13359   \n",
      "14472        8125       Yuma County    CO          8  ...       201       204   \n",
      "14473       48505     Zapata County    TX         48  ...       342       342   \n",
      "14474       48507     Zavala County    TX         48  ...       452       458   \n",
      "14475       46137    Ziebach County    SD         46  ...        81        82   \n",
      "\n",
      "       10/23/20  10/24/20  10/25/20  10/26/20  10/27/20  10/28/20  10/29/20  \\\n",
      "0           733       739       747       754       760       768       779   \n",
      "1          3108      3108      3119      3119      3139      3147      3158   \n",
      "2          1206      1206      1207      1210      1211      1214      1214   \n",
      "3         15885     16179     16179     16397     16551     16551     16908   \n",
      "4           152       155       159       162       171       181       195   \n",
      "...         ...       ...       ...       ...       ...       ...       ...   \n",
      "14471     13442     13500     13584     13646     13670     13689     13735   \n",
      "14472       204       210       210       213       214       218       219   \n",
      "14473       343       345       346       346       352       352       352   \n",
      "14474       458       460       460       461       463       466       469   \n",
      "14475        86        86        87        87        89        92        93   \n",
      "\n",
      "       10/30/20  \n",
      "0           789  \n",
      "1          3169  \n",
      "2          1219  \n",
      "3         17098  \n",
      "4           199  \n",
      "...         ...  \n",
      "14471     13797  \n",
      "14472       223  \n",
      "14473       357  \n",
      "14474       470  \n",
      "14475       100  \n",
      "\n",
      "[14476 rows x 293 columns]\n"
     ]
    },
    {
     "name": "stderr",
     "output_type": "stream",
     "text": [
      "C:\\Users\\poona\\anaconda3\\envs\\mlproject\\lib\\site-packages\\pandas\\core\\indexing.py:670: SettingWithCopyWarning: \n",
      "A value is trying to be set on a copy of a slice from a DataFrame\n",
      "\n",
      "See the caveats in the documentation: https://pandas.pydata.org/pandas-docs/stable/user_guide/indexing.html#returning-a-view-versus-a-copy\n",
      "  iloc._setitem_with_indexer(indexer, value)\n"
     ]
    }
   ],
   "source": [
    "covid_deaths = covid[(covid['State'] != 'United States') & (covid['Sex'] == 'All Sexes') & (covid['Age group'] == 'All Ages')]\n",
    "\n",
    "#dictionary of all states in order of least preparation and worst impact of covid\n",
    "aggregation_functions = {'rfgrp': 'sum', 'popuni': 'first', 'stname' : 'last', 'STABREV' : 'first'}\n",
    "counties = resilience.groupby(resilience['ctname']).aggregate(aggregation_functions)\n",
    "\n",
    "#merged_df = pd.merge(covid_deaths, resilience, left_on = 'State', right_on = 'stname')\n",
    "\n",
    "#print(merged_df)\n",
    "#print(counties)\n",
    "\n",
    "counties['state_deaths'] = 0\n",
    "\n",
    "\n",
    "\n",
    "for state in counties.groupby('stname'):\n",
    "    counties['state_deaths'].loc[(counties['stname'] == state[0])] = covid_deaths['COVID-19 Deaths'].loc[(covid_deaths['State'] == state[0])].values[0]\n",
    "    \n",
    "    \n",
    "counties['county_name'] = counties.index\n",
    "counties['county_name'] = counties['county_name'].str[:-4]\n",
    "\n",
    "merged_df = pd.merge(counties, cases, left_on = 'county_name', right_on = 'County Name')\n",
    "\n",
    "print(merged_df)"
   ]
  },
  {
   "cell_type": "code",
   "execution_count": 3,
   "metadata": {},
   "outputs": [],
   "source": [
    "#final_df.to_csv('for_R.csv')\n",
    "counties.to_csv('counties.csv')\n",
    "\n",
    "merged_df.to_csv('counties2.csv')"
   ]
  },
  {
   "cell_type": "code",
   "execution_count": null,
   "metadata": {},
   "outputs": [],
   "source": [
    "import requests\n",
    "\n",
    "api_key = 'AF82CB8C-3BDD-4774-867B-267E648C03D6'\n",
    "method = 'GETDATASETLIST'\n",
    "result_format = 'JSON'\n",
    "req_params = {'USERID' : api_key, 'method' : method, 'ResultFormat' : result_format}\n",
    "data = requests.get('https://apps.bea.gov/api/data/', params = req_params)\n",
    "\n",
    "print(data)"
   ]
  },
  {
   "cell_type": "code",
   "execution_count": null,
   "metadata": {},
   "outputs": [],
   "source": [
    "import json\n",
    "\n",
    "\n",
    "for x in data:\n",
    "    print(x)"
   ]
  }
 ],
 "metadata": {
  "kernelspec": {
   "display_name": "Python 3",
   "language": "python",
   "name": "python3"
  },
  "language_info": {
   "codemirror_mode": {
    "name": "ipython",
    "version": 3
   },
   "file_extension": ".py",
   "mimetype": "text/x-python",
   "name": "python",
   "nbconvert_exporter": "python",
   "pygments_lexer": "ipython3",
   "version": "3.7.9"
  }
 },
 "nbformat": 4,
 "nbformat_minor": 4
}
